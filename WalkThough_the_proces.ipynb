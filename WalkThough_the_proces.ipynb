{
 "cells": [
  {
   "cell_type": "markdown",
   "id": "58e96986",
   "metadata": {},
   "source": [
    "# Let's start by doing some data preprocessing\n",
    "\n",
    "### First we'll import our training dataframe"
   ]
  },
  {
   "cell_type": "code",
   "execution_count": 167,
   "id": "db654bb3",
   "metadata": {},
   "outputs": [],
   "source": [
    "import pandas as pd\n",
    "df = pd.read_csv('titanic-training-dataset.csv')"
   ]
  },
  {
   "cell_type": "markdown",
   "id": "cb5725ec",
   "metadata": {},
   "source": [
    "### Let's inspect our dataframe a bit"
   ]
  },
  {
   "cell_type": "code",
   "execution_count": 168,
   "id": "6f567e4d",
   "metadata": {},
   "outputs": [
    {
     "data": {
      "text/html": [
       "<div>\n",
       "<style scoped>\n",
       "    .dataframe tbody tr th:only-of-type {\n",
       "        vertical-align: middle;\n",
       "    }\n",
       "\n",
       "    .dataframe tbody tr th {\n",
       "        vertical-align: top;\n",
       "    }\n",
       "\n",
       "    .dataframe thead th {\n",
       "        text-align: right;\n",
       "    }\n",
       "</style>\n",
       "<table border=\"1\" class=\"dataframe\">\n",
       "  <thead>\n",
       "    <tr style=\"text-align: right;\">\n",
       "      <th></th>\n",
       "      <th>PassengerId</th>\n",
       "      <th>Survived</th>\n",
       "      <th>Pclass</th>\n",
       "      <th>Name</th>\n",
       "      <th>Sex</th>\n",
       "      <th>Age</th>\n",
       "      <th>SibSp</th>\n",
       "      <th>Parch</th>\n",
       "      <th>Ticket</th>\n",
       "      <th>Fare</th>\n",
       "      <th>Cabin</th>\n",
       "      <th>Embarked</th>\n",
       "    </tr>\n",
       "  </thead>\n",
       "  <tbody>\n",
       "    <tr>\n",
       "      <th>0</th>\n",
       "      <td>1</td>\n",
       "      <td>0</td>\n",
       "      <td>3</td>\n",
       "      <td>Braund, Mr. Owen Harris</td>\n",
       "      <td>male</td>\n",
       "      <td>22.0</td>\n",
       "      <td>1</td>\n",
       "      <td>0</td>\n",
       "      <td>A/5 21171</td>\n",
       "      <td>7.2500</td>\n",
       "      <td>NaN</td>\n",
       "      <td>S</td>\n",
       "    </tr>\n",
       "    <tr>\n",
       "      <th>1</th>\n",
       "      <td>2</td>\n",
       "      <td>1</td>\n",
       "      <td>1</td>\n",
       "      <td>Cumings, Mrs. John Bradley (Florence Briggs Th...</td>\n",
       "      <td>female</td>\n",
       "      <td>38.0</td>\n",
       "      <td>1</td>\n",
       "      <td>0</td>\n",
       "      <td>PC 17599</td>\n",
       "      <td>71.2833</td>\n",
       "      <td>C85</td>\n",
       "      <td>C</td>\n",
       "    </tr>\n",
       "    <tr>\n",
       "      <th>2</th>\n",
       "      <td>3</td>\n",
       "      <td>1</td>\n",
       "      <td>3</td>\n",
       "      <td>Heikkinen, Miss. Laina</td>\n",
       "      <td>female</td>\n",
       "      <td>26.0</td>\n",
       "      <td>0</td>\n",
       "      <td>0</td>\n",
       "      <td>STON/O2. 3101282</td>\n",
       "      <td>7.9250</td>\n",
       "      <td>NaN</td>\n",
       "      <td>S</td>\n",
       "    </tr>\n",
       "  </tbody>\n",
       "</table>\n",
       "</div>"
      ],
      "text/plain": [
       "   PassengerId  Survived  Pclass  \\\n",
       "0            1         0       3   \n",
       "1            2         1       1   \n",
       "2            3         1       3   \n",
       "\n",
       "                                                Name     Sex   Age  SibSp  \\\n",
       "0                            Braund, Mr. Owen Harris    male  22.0      1   \n",
       "1  Cumings, Mrs. John Bradley (Florence Briggs Th...  female  38.0      1   \n",
       "2                             Heikkinen, Miss. Laina  female  26.0      0   \n",
       "\n",
       "   Parch            Ticket     Fare Cabin Embarked  \n",
       "0      0         A/5 21171   7.2500   NaN        S  \n",
       "1      0          PC 17599  71.2833   C85        C  \n",
       "2      0  STON/O2. 3101282   7.9250   NaN        S  "
      ]
     },
     "execution_count": 168,
     "metadata": {},
     "output_type": "execute_result"
    }
   ],
   "source": [
    "df.head(3)"
   ]
  },
  {
   "cell_type": "code",
   "execution_count": 169,
   "id": "a1c46138",
   "metadata": {},
   "outputs": [
    {
     "name": "stdout",
     "output_type": "stream",
     "text": [
      "<class 'pandas.core.frame.DataFrame'>\n",
      "RangeIndex: 891 entries, 0 to 890\n",
      "Data columns (total 12 columns):\n",
      " #   Column       Non-Null Count  Dtype  \n",
      "---  ------       --------------  -----  \n",
      " 0   PassengerId  891 non-null    int64  \n",
      " 1   Survived     891 non-null    int64  \n",
      " 2   Pclass       891 non-null    int64  \n",
      " 3   Name         891 non-null    object \n",
      " 4   Sex          891 non-null    object \n",
      " 5   Age          714 non-null    float64\n",
      " 6   SibSp        891 non-null    int64  \n",
      " 7   Parch        891 non-null    int64  \n",
      " 8   Ticket       891 non-null    object \n",
      " 9   Fare         891 non-null    float64\n",
      " 10  Cabin        204 non-null    object \n",
      " 11  Embarked     889 non-null    object \n",
      "dtypes: float64(2), int64(5), object(5)\n",
      "memory usage: 83.7+ KB\n"
     ]
    }
   ],
   "source": [
    "df.info()"
   ]
  },
  {
   "cell_type": "markdown",
   "id": "b70dce1a",
   "metadata": {},
   "source": [
    "### Missing data observations\n",
    "<ul>\n",
    "    <li>Cabin is missing a lot of data, we'll get rid of the cabin feature later</li>\n",
    "    <li>Embarked is missing two data values, we can just get rid of these two entries</li>\n",
    "    <li>Age is missing some values, we will impute values for these</li>\n",
    "</ul>\n",
    "\n",
    "### Let's impute the missing ages based on the Pclass of the person\n",
    "( We'll get back to the Cabin and Embarked features later )"
   ]
  },
  {
   "cell_type": "code",
   "execution_count": 170,
   "id": "6ae88e3a",
   "metadata": {},
   "outputs": [],
   "source": [
    "# Impute age based on Pclass\n",
    "def impute_age(age_pclass):\n",
    "    age = age_pclass[0]\n",
    "    pclass = age_pclass[1]\n",
    "    if pd.isnull(age):\n",
    "        if pclass == 1:\n",
    "            return 38 # Average age of people in first class\n",
    "        elif pclass == 2:\n",
    "            return 30 # Average age of people in second class\n",
    "        else: \n",
    "            return 25 # Average age of people in third class\n",
    "    else:\n",
    "        return age # Returns the age if it was not null to begin with\n",
    "    \n",
    "df['Age'] = df[['Age', 'Pclass']].apply(impute_age, axis=1)"
   ]
  },
  {
   "cell_type": "markdown",
   "id": "6d790853",
   "metadata": {},
   "source": [
    "## Time for some new features!\n",
    "### First we extract the title of the person which can be found in the Name column"
   ]
  },
  {
   "cell_type": "code",
   "execution_count": 171,
   "id": "b3d264af",
   "metadata": {},
   "outputs": [],
   "source": [
    "# Create Title from Name column and remove Name column\n",
    "# 1 = Miss , 2 = Mrs , 3 = Mr , 4 = Master , 5 = Other\n",
    "df['Title'] = df['Name'].str.split(',', expand = True)[1]\n",
    "df['Title'] = df['Title'].str.split(' ', expand = True)[1]\n",
    "df['Title'] = df['Title'].replace(['Mlle.', 'Ms.', 'Miss.'], 1)\n",
    "df['Title'] = df['Title'].replace(['Mrs.', 'Mme.'], 2)\n",
    "df['Title'] = df['Title'].replace('Mr.', 3)\n",
    "df['Title'] = df['Title'].replace('Master.', 4)\n",
    "df['Title'] = df['Title'].replace(['Lady.', 'Countess.','Capt.', 'Col.','Dr.', 'Major.', 'Rev.', 'Sir.', 'Don.', 'Jonkheer.', 'Dona.'], 5)"
   ]
  },
  {
   "cell_type": "markdown",
   "id": "4e5a2df6",
   "metadata": {},
   "source": [
    "### Let's make some groups called AgeGroup and FareGroup"
   ]
  },
  {
   "cell_type": "code",
   "execution_count": 172,
   "id": "137d35f3",
   "metadata": {},
   "outputs": [],
   "source": [
    "def age_groups(age):\n",
    "    if age < 10:\n",
    "        return 0 # 0-10 years \n",
    "    elif age < 20:\n",
    "        return 1 # 10-20 years\n",
    "    elif age < 30:\n",
    "        return 2 # 20-30 years \n",
    "    elif age < 40:\n",
    "        return 4 # 30-40 years\n",
    "    elif age < 50:\n",
    "        return 5 # 40-50 years\n",
    "    elif age < 60:\n",
    "        return 6 # 50-60 years\n",
    "    else:\n",
    "        return 7 # >60 years\n",
    "\n",
    "def fare_groups(fare):\n",
    "    if fare < 10:\n",
    "        return 1 # 0-10 pounds\n",
    "    elif fare < 20:\n",
    "        return 2 # 10-20 pounds\n",
    "    elif fare < 30:\n",
    "        return 3 # 20-30 pounds\n",
    "    elif fare < 40:\n",
    "        return 3 # 30-40 pounds\n",
    "    elif fare < 50:\n",
    "        return 4 # 40-50 pounds\n",
    "    elif fare < 100:\n",
    "        return 5 # 50-100 pounds\n",
    "    else:\n",
    "        return 6 # >100 pounds\n",
    "    \n",
    "df['AgeGroup'] = df['Age'].apply(age_groups)\n",
    "df['FareGroup'] = df['Fare'].apply(fare_groups)"
   ]
  },
  {
   "cell_type": "markdown",
   "id": "593caffa",
   "metadata": {},
   "source": [
    "### Also the size of a person's family and whether or not they are alone can be of interest"
   ]
  },
  {
   "cell_type": "code",
   "execution_count": 173,
   "id": "f10f23ce",
   "metadata": {},
   "outputs": [],
   "source": [
    "def is_alone(family_size):\n",
    "    if family_size == 1:\n",
    "        return 1\n",
    "    else:\n",
    "        return 0\n",
    "    \n",
    "df['FamilySize'] = df['SibSp'] + df['Parch'] + 1\n",
    "df['IsAlone'] = df['FamilySize'].apply(is_alone)"
   ]
  },
  {
   "cell_type": "markdown",
   "id": "9a0f00e4",
   "metadata": {},
   "source": [
    "### Let's quickly encode the Sex and Embarked Feature"
   ]
  },
  {
   "cell_type": "code",
   "execution_count": 174,
   "id": "b7a122a8",
   "metadata": {},
   "outputs": [],
   "source": [
    "# Encode Sex to: female = 0 , male = 1\n",
    "df['Sex'] = df['Sex'].replace(['female', 'male'], [0,1])\n",
    "\n",
    "# Encode Embarked: S = 0 , C = 1, Q = 2\n",
    "df['Embarked'] = df['Embarked'].replace(['S','C','Q'], [0,1,2])"
   ]
  },
  {
   "cell_type": "markdown",
   "id": "cc45c338",
   "metadata": {},
   "source": [
    "### Now we can drop some features which don't contain such interesting data"
   ]
  },
  {
   "cell_type": "code",
   "execution_count": 175,
   "id": "9dd72b44",
   "metadata": {},
   "outputs": [
    {
     "name": "stderr",
     "output_type": "stream",
     "text": [
      "/tmp/ipykernel_8240/1068155920.py:2: FutureWarning: In a future version of pandas all arguments of DataFrame.drop except for the argument 'labels' will be keyword-only\n",
      "  df.drop(['Cabin', 'Name', 'Ticket', 'Fare', 'PassengerId', 'Age'], 1, inplace=True)\n"
     ]
    }
   ],
   "source": [
    "# Delete Cabin, Name, Fare, Ticket, Age and PassengerId column\n",
    "df.drop(['Cabin', 'Name', 'Ticket', 'Fare', 'PassengerId', 'Age'], 1, inplace=True)"
   ]
  },
  {
   "cell_type": "markdown",
   "id": "d2d9265e",
   "metadata": {},
   "source": [
    "### Now we can remove the two rows containing null values for Embarked\n",
    "#### And whilst we're at it, we can also encode the Embarked feature"
   ]
  },
  {
   "cell_type": "code",
   "execution_count": 176,
   "id": "ae11c736",
   "metadata": {},
   "outputs": [],
   "source": [
    "# Remove two rows with null value at Embarked\n",
    "df.dropna(inplace=True)\n",
    "\n",
    "# Encode Embarked: S = 0 , C = 1, Q = 2\n",
    "df['Embarked'] = df['Embarked'].replace(['S','C','Q'], [0,1,2])"
   ]
  },
  {
   "cell_type": "markdown",
   "id": "30a62546",
   "metadata": {},
   "source": [
    "## Time to have another look at our cleaned up dataframe!"
   ]
  },
  {
   "cell_type": "code",
   "execution_count": 177,
   "id": "d3411606",
   "metadata": {},
   "outputs": [
    {
     "data": {
      "text/html": [
       "<div>\n",
       "<style scoped>\n",
       "    .dataframe tbody tr th:only-of-type {\n",
       "        vertical-align: middle;\n",
       "    }\n",
       "\n",
       "    .dataframe tbody tr th {\n",
       "        vertical-align: top;\n",
       "    }\n",
       "\n",
       "    .dataframe thead th {\n",
       "        text-align: right;\n",
       "    }\n",
       "</style>\n",
       "<table border=\"1\" class=\"dataframe\">\n",
       "  <thead>\n",
       "    <tr style=\"text-align: right;\">\n",
       "      <th></th>\n",
       "      <th>Survived</th>\n",
       "      <th>Pclass</th>\n",
       "      <th>Sex</th>\n",
       "      <th>SibSp</th>\n",
       "      <th>Parch</th>\n",
       "      <th>Embarked</th>\n",
       "      <th>Title</th>\n",
       "      <th>AgeGroup</th>\n",
       "      <th>FareGroup</th>\n",
       "      <th>FamilySize</th>\n",
       "      <th>IsAlone</th>\n",
       "    </tr>\n",
       "  </thead>\n",
       "  <tbody>\n",
       "    <tr>\n",
       "      <th>0</th>\n",
       "      <td>0</td>\n",
       "      <td>3</td>\n",
       "      <td>1</td>\n",
       "      <td>1</td>\n",
       "      <td>0</td>\n",
       "      <td>0.0</td>\n",
       "      <td>3</td>\n",
       "      <td>2</td>\n",
       "      <td>1</td>\n",
       "      <td>2</td>\n",
       "      <td>0</td>\n",
       "    </tr>\n",
       "    <tr>\n",
       "      <th>1</th>\n",
       "      <td>1</td>\n",
       "      <td>1</td>\n",
       "      <td>0</td>\n",
       "      <td>1</td>\n",
       "      <td>0</td>\n",
       "      <td>1.0</td>\n",
       "      <td>2</td>\n",
       "      <td>4</td>\n",
       "      <td>5</td>\n",
       "      <td>2</td>\n",
       "      <td>0</td>\n",
       "    </tr>\n",
       "    <tr>\n",
       "      <th>2</th>\n",
       "      <td>1</td>\n",
       "      <td>3</td>\n",
       "      <td>0</td>\n",
       "      <td>0</td>\n",
       "      <td>0</td>\n",
       "      <td>0.0</td>\n",
       "      <td>1</td>\n",
       "      <td>2</td>\n",
       "      <td>1</td>\n",
       "      <td>1</td>\n",
       "      <td>1</td>\n",
       "    </tr>\n",
       "    <tr>\n",
       "      <th>3</th>\n",
       "      <td>1</td>\n",
       "      <td>1</td>\n",
       "      <td>0</td>\n",
       "      <td>1</td>\n",
       "      <td>0</td>\n",
       "      <td>0.0</td>\n",
       "      <td>2</td>\n",
       "      <td>4</td>\n",
       "      <td>5</td>\n",
       "      <td>2</td>\n",
       "      <td>0</td>\n",
       "    </tr>\n",
       "    <tr>\n",
       "      <th>4</th>\n",
       "      <td>0</td>\n",
       "      <td>3</td>\n",
       "      <td>1</td>\n",
       "      <td>0</td>\n",
       "      <td>0</td>\n",
       "      <td>0.0</td>\n",
       "      <td>3</td>\n",
       "      <td>4</td>\n",
       "      <td>1</td>\n",
       "      <td>1</td>\n",
       "      <td>1</td>\n",
       "    </tr>\n",
       "    <tr>\n",
       "      <th>5</th>\n",
       "      <td>0</td>\n",
       "      <td>3</td>\n",
       "      <td>1</td>\n",
       "      <td>0</td>\n",
       "      <td>0</td>\n",
       "      <td>2.0</td>\n",
       "      <td>3</td>\n",
       "      <td>2</td>\n",
       "      <td>1</td>\n",
       "      <td>1</td>\n",
       "      <td>1</td>\n",
       "    </tr>\n",
       "    <tr>\n",
       "      <th>6</th>\n",
       "      <td>0</td>\n",
       "      <td>1</td>\n",
       "      <td>1</td>\n",
       "      <td>0</td>\n",
       "      <td>0</td>\n",
       "      <td>0.0</td>\n",
       "      <td>3</td>\n",
       "      <td>6</td>\n",
       "      <td>5</td>\n",
       "      <td>1</td>\n",
       "      <td>1</td>\n",
       "    </tr>\n",
       "    <tr>\n",
       "      <th>7</th>\n",
       "      <td>0</td>\n",
       "      <td>3</td>\n",
       "      <td>1</td>\n",
       "      <td>3</td>\n",
       "      <td>1</td>\n",
       "      <td>0.0</td>\n",
       "      <td>4</td>\n",
       "      <td>0</td>\n",
       "      <td>3</td>\n",
       "      <td>5</td>\n",
       "      <td>0</td>\n",
       "    </tr>\n",
       "    <tr>\n",
       "      <th>8</th>\n",
       "      <td>1</td>\n",
       "      <td>3</td>\n",
       "      <td>0</td>\n",
       "      <td>0</td>\n",
       "      <td>2</td>\n",
       "      <td>0.0</td>\n",
       "      <td>2</td>\n",
       "      <td>2</td>\n",
       "      <td>2</td>\n",
       "      <td>3</td>\n",
       "      <td>0</td>\n",
       "    </tr>\n",
       "    <tr>\n",
       "      <th>9</th>\n",
       "      <td>1</td>\n",
       "      <td>2</td>\n",
       "      <td>0</td>\n",
       "      <td>1</td>\n",
       "      <td>0</td>\n",
       "      <td>1.0</td>\n",
       "      <td>2</td>\n",
       "      <td>1</td>\n",
       "      <td>3</td>\n",
       "      <td>2</td>\n",
       "      <td>0</td>\n",
       "    </tr>\n",
       "  </tbody>\n",
       "</table>\n",
       "</div>"
      ],
      "text/plain": [
       "   Survived  Pclass  Sex  SibSp  Parch  Embarked  Title  AgeGroup  FareGroup  \\\n",
       "0         0       3    1      1      0       0.0      3         2          1   \n",
       "1         1       1    0      1      0       1.0      2         4          5   \n",
       "2         1       3    0      0      0       0.0      1         2          1   \n",
       "3         1       1    0      1      0       0.0      2         4          5   \n",
       "4         0       3    1      0      0       0.0      3         4          1   \n",
       "5         0       3    1      0      0       2.0      3         2          1   \n",
       "6         0       1    1      0      0       0.0      3         6          5   \n",
       "7         0       3    1      3      1       0.0      4         0          3   \n",
       "8         1       3    0      0      2       0.0      2         2          2   \n",
       "9         1       2    0      1      0       1.0      2         1          3   \n",
       "\n",
       "   FamilySize  IsAlone  \n",
       "0           2        0  \n",
       "1           2        0  \n",
       "2           1        1  \n",
       "3           2        0  \n",
       "4           1        1  \n",
       "5           1        1  \n",
       "6           1        1  \n",
       "7           5        0  \n",
       "8           3        0  \n",
       "9           2        0  "
      ]
     },
     "execution_count": 177,
     "metadata": {},
     "output_type": "execute_result"
    }
   ],
   "source": [
    "df.head(10)"
   ]
  },
  {
   "cell_type": "markdown",
   "id": "3aad4d59",
   "metadata": {},
   "source": [
    "# Time to analyse the data by creating beautiful figures! \n",
    "( Note that better formatted figures can be found in the github repository ) \n",
    "\n",
    "### First we set a nice style for our grid"
   ]
  },
  {
   "cell_type": "code",
   "execution_count": 178,
   "id": "73b71099",
   "metadata": {},
   "outputs": [],
   "source": [
    "import matplotlib.pyplot as plt\n",
    "import seaborn as sns\n",
    "\n",
    "# Set grid style\n",
    "sns.set(style=\"darkgrid\")"
   ]
  },
  {
   "cell_type": "code",
   "execution_count": 179,
   "id": "2556b0a7",
   "metadata": {},
   "outputs": [
    {
     "data": {
      "image/png": "[encoded data removed]",
      "text/plain": [
       "<Figure size 432x288 with 4 Axes>"
      ]
     },
     "metadata": {},
     "output_type": "display_data"
    },
    {
     "data": {
      "image/png": "[encoded data removed]",
      "text/plain": [
       "<Figure size 432x288 with 4 Axes>"
      ]
     },
     "metadata": {},
     "output_type": "display_data"
    },
    {
     "data": {
      "image/png": "[encoded data removed]",
      "text/plain": [
       "<Figure size 432x288 with 4 Axes>"
      ]
     },
     "metadata": {},
     "output_type": "display_data"
    }
   ],
   "source": [
    "#### Creates four plots in one figure  splitted in women/men and absolute numbers/percentages ####\n",
    "# The top two plots are in absolute numbers of passengers\n",
    "# The bottom two plots are the percentage of survivors\n",
    "# The left two plots are women, the right two plots are men\n",
    "# df = dataframe, feature = sets column that will be used on the x-axis, ylim = sets height of the y-axis for the top two plots\n",
    "def CreateFigureWomenMen(df, feature, ylim):\n",
    "    fig, axs = plt.subplots(2,2, sharex=True, num=feature)\n",
    "    plt.subplots_adjust(wspace=0.016, hspace=0.075)\n",
    "    \n",
    "    # The two plots with absolute number of passengers\n",
    "    survived_women_feature = df[df['Sex'] == 0].groupby(feature)[\"Survived\"].count()\n",
    "    survived_men_feature = df[df['Sex'] == 1].groupby(feature)[\"Survived\"].count()\n",
    "    axs[0,0] = survived_women_feature.plot.bar(ax=axs[0,0], sharey=True, color=\"#ce546d\", title=\"Women\")\n",
    "    axs[0,1]  = survived_men_feature.plot.bar(ax=axs[0,1], sharey=True, title=\"Men\")\n",
    "    axs[0,0].set_ylabel(\"Number of passengers\")\n",
    "    axs[0,0].set_ylim(0, ylim)\n",
    "    axs[0,1].set_ylim(0, ylim)\n",
    "\n",
    "    # The two plots with the survival rate\n",
    "    survival_rate_women_feature = df[df[\"Sex\"] == 0].groupby(feature)[\"Survived\"].mean()\n",
    "    survival_rate_men_feature = df[df[\"Sex\"] == 1].groupby(feature)[\"Survived\"].mean()\n",
    "    axs[1,0] = survival_rate_women_feature.plot.bar(ax=axs[1,0], color=\"#ce546d\", sharey=True)\n",
    "    axs[1,1] = survival_rate_men_feature.plot.bar(ax=axs[1,1], sharey=True)\n",
    "    axs[1,0].set_ylabel(\"Survival Rate\")\n",
    "    axs[1,0].set_ylim(0.0, 1.0)\n",
    "    axs[1,1].set_ylim(0.0, 1.0)\n",
    "\n",
    "# Create the women/men figures\n",
    "features = ('Pclass', 'AgeGroup', 'FareGroup')\n",
    "y_limits = (350, 250, 300)\n",
    "figures = list(map(CreateFigureWomenMen, [df]*3, features, y_limits))"
   ]
  },
  {
   "cell_type": "code",
   "execution_count": 180,
   "id": "9bc20ee3",
   "metadata": {},
   "outputs": [
    {
     "data": {
      "image/png": "[encoded data removed]",
      "text/plain": [
       "<Figure size 432x288 with 2 Axes>"
      ]
     },
     "metadata": {},
     "output_type": "display_data"
    },
    {
     "data": {
      "image/png": "[encoded data removed]",
      "text/plain": [
       "<Figure size 432x288 with 2 Axes>"
      ]
     },
     "metadata": {},
     "output_type": "display_data"
    },
    {
     "data": {
      "image/png": "[encoded data removed]",
      "text/plain": [
       "<Figure size 432x288 with 2 Axes>"
      ]
     },
     "metadata": {},
     "output_type": "display_data"
    }
   ],
   "source": [
    "#### Creates two plots in one figure ####\n",
    "# The top plot is the absolute number of passengers per feature\n",
    "# The bottom plot is the percentage of survivors per feature\n",
    "# df = dataframe, feature = sets column that will be used on the x-axis, ylim = sets height of the y-axis for the top two plots\n",
    "def CreateFigure(df, feature, ylim):\n",
    "    figure_Embarked, axs = plt.subplots(2,1, sharex=True, num=feature)\n",
    "    plt.subplots_adjust(wspace=0.016, hspace=0.075)\n",
    "\n",
    "    # figure 4.0 - Number of passengers that survived per embark location\n",
    "    survived_by_embarked = df.groupby(feature)[\"Survived\"].count()\n",
    "    axs[0] = survived_by_embarked.plot.bar(ax=axs[0], color=[\"#339955\"])\n",
    "    axs[0].set_ylabel(\"Number of passengers\")\n",
    "    axs[0].set_ylim(0, ylim)\n",
    "\n",
    "    # figure 4.1 - Survival rate for passengers per embark location\n",
    "    survival_rate_by_embarked = df.groupby(feature)[\"Survived\"].mean()\n",
    "    axs[1] = survival_rate_by_embarked.plot.bar(ax=axs[1], color=[\"#339955\"])\n",
    "    axs[1].set_ylabel(\"Survival Rate\")\n",
    "    axs[1].set_ylim(0.0, 1.0)\n",
    "    \n",
    "# Create the other figures\n",
    "features1 = ('Embarked', 'IsAlone', 'FamilySize', 'Title')\n",
    "y_limits1 = (650, 550, 550, 550)\n",
    "figures.append(list(map(CreateFigure, [df]*3, features1, y_limits1)))"
   ]
  },
  {
   "cell_type": "markdown",
   "id": "4451c4cb",
   "metadata": {},
   "source": [
    "# Machine learning time!\n",
    "### First we'll import some functions from scikitlearn "
   ]
  },
  {
   "cell_type": "code",
   "execution_count": 181,
   "id": "fe1980e6",
   "metadata": {},
   "outputs": [],
   "source": [
    "# machine learning\n",
    "from sklearn.linear_model import LogisticRegression, RidgeClassifierCV\n",
    "from sklearn.svm import SVC\n",
    "from sklearn.ensemble import (RandomForestClassifier, GradientBoostingClassifier)\n",
    "from sklearn.neighbors import KNeighborsClassifier\n",
    "from sklearn.naive_bayes import GaussianNB\n",
    "from sklearn.linear_model import Perceptron\n",
    "from sklearn.tree import DecisionTreeClassifier\n",
    "from sklearn.model_selection import train_test_split\n",
    "from sklearn.model_selection import cross_val_score"
   ]
  },
  {
   "cell_type": "markdown",
   "id": "6e464ca5",
   "metadata": {},
   "source": [
    "### Now train a bunch of models using Cross Validation to see which one works best on our dataframe. We use Cross Validation as it is a small dataframe and it's more accurate than train/test split."
   ]
  },
  {
   "cell_type": "code",
   "execution_count": 182,
   "id": "1ed52879",
   "metadata": {},
   "outputs": [
    {
     "name": "stdout",
     "output_type": "stream",
     "text": [
      "Logistic regression Cross validated score: 0.803\n",
      "SVM Cross validated score: 0.822\n",
      "KNN Cross validated score: 0.794\n",
      "Gaussian Naive bayes Cross validated score: 0.782\n",
      "Perceptron Cross validated score: 0.719\n",
      "Decision Tree Cross validated score: 0.791\n",
      "Random Forest Cross validated score: 0.809\n",
      "Gradient boosting Cross validated score: 0.816\n",
      "Ridge classifier CV Cross validated score: 0.799\n"
     ]
    },
    {
     "data": {
      "text/plain": [
       "[None, None, None, None, None, None, None, None, None]"
      ]
     },
     "execution_count": 182,
     "metadata": {},
     "output_type": "execute_result"
    }
   ],
   "source": [
    "x = df.drop('Survived', axis=1)\n",
    "y = df['Survived']\n",
    "\n",
    "# training and evaluating models using Cross-validation\n",
    "def train_and_evaluate_model(model, name):\n",
    "    scores = cross_val_score(model, x, y, cv=10, scoring='accuracy')\n",
    "    print(name + \" Cross validated score: \" + str(round(scores.mean(),3)))\n",
    "\n",
    "models = [LogisticRegression(), SVC(), KNeighborsClassifier(n_neighbors = 13), GaussianNB(), Perceptron(), DecisionTreeClassifier(), RandomForestClassifier(n_estimators=100), GradientBoostingClassifier(n_estimators = 100), RidgeClassifierCV()]\n",
    "model_names = [\"Logistic regression\", \"SVM\", \"KNN\", \"Gaussian Naive bayes\", \"Perceptron\", \"Decision Tree\", \"Random Forest\", \"Gradient boosting\", \"Ridge classifier CV\"]\n",
    "list(map(train_and_evaluate_model, models, model_names))"
   ]
  },
  {
   "cell_type": "markdown",
   "id": "b833eac7",
   "metadata": {},
   "source": [
    "### It looks like SVM is the best model for this data. Let's do some feature selection.\n",
    "### We will use forward sequential feature selection to select our features"
   ]
  },
  {
   "cell_type": "code",
   "execution_count": 183,
   "id": "908f1fb1",
   "metadata": {},
   "outputs": [
    {
     "data": {
      "text/plain": [
       "array(['Pclass', 'Sex', 'AgeGroup', 'FamilySize'], dtype=object)"
      ]
     },
     "execution_count": 183,
     "metadata": {},
     "output_type": "execute_result"
    }
   ],
   "source": [
    "from sklearn.feature_selection import SequentialFeatureSelector\n",
    "svm = SVC()\n",
    "sfs = SequentialFeatureSelector(svm, n_features_to_select=4, direction='forward')\n",
    "sfs.fit(x,y)\n",
    "sfs.get_feature_names_out()"
   ]
  },
  {
   "cell_type": "code",
   "execution_count": 184,
   "id": "15b11534",
   "metadata": {},
   "outputs": [
    {
     "data": {
      "text/plain": [
       "0.83"
      ]
     },
     "execution_count": 184,
     "metadata": {},
     "output_type": "execute_result"
    }
   ],
   "source": [
    "# Features selected from forward feature selection\n",
    "features = ['Pclass', 'Sex', 'AgeGroup', 'FamilySize']\n",
    "svm = SVC()\n",
    "x = df[features]\n",
    "round(cross_val_score(svm, x, y, cv=10, scoring='accuracy').mean(),2)"
   ]
  },
  {
   "cell_type": "markdown",
   "id": "a0e7e5bb",
   "metadata": {},
   "source": [
    "### We will use the SVM model with the following features\n",
    "<ul>\n",
    "    <li>Pclass</li>\n",
    "    <li>Sex</li>\n",
    "    <li>AgeGroup</li>\n",
    "    <li>FamilySize</li>\n",
    "</ul>\n",
    "<b>Cross validation accuracy is 0.83</b>"
   ]
  },
  {
   "cell_type": "markdown",
   "id": "d2a84e4e",
   "metadata": {},
   "source": [
    "## Let's use GridSearchCV to find the optimal parameters for our model"
   ]
  },
  {
   "cell_type": "code",
   "execution_count": 185,
   "id": "650bf975",
   "metadata": {},
   "outputs": [
    {
     "name": "stdout",
     "output_type": "stream",
     "text": [
      "The best parameters are {'C': 95.0, 'gamma': 0.034999999999999996} with a score of 0.83\n"
     ]
    }
   ],
   "source": [
    "from sklearn.model_selection import GridSearchCV\n",
    "import numpy as np\n",
    "\n",
    "gamma_range = np.arange(0.005, 0.3, 0.005)\n",
    "C_range = np.arange(30, 110, 5.0)\n",
    "param_grid = dict(gamma=gamma_range, C=C_range)\n",
    "grid = GridSearchCV(SVC(), param_grid=param_grid, cv=5, scoring='accuracy', n_jobs=-1)\n",
    "grid.fit(x, y)\n",
    "\n",
    "print(\n",
    "    \"The best parameters are %s with a score of %0.2f\"\n",
    "    % (grid.best_params_, grid.best_score_)\n",
    ")"
   ]
  },
  {
   "cell_type": "markdown",
   "id": "76b5f93c",
   "metadata": {},
   "source": [
    "## Since the parameterse of GridSearchCV don't outperform the default, we will stick to the default values of SVM\n",
    "### We will train the model on all of our training data"
   ]
  },
  {
   "cell_type": "code",
   "execution_count": 186,
   "id": "ad8c0e1d",
   "metadata": {},
   "outputs": [
    {
     "data": {
      "text/plain": [
       "array([0, 0, 0, 0])"
      ]
     },
     "execution_count": 186,
     "metadata": {},
     "output_type": "execute_result"
    }
   ],
   "source": [
    "svm = SVC(kernel='rbf')\n",
    "svm.fit(x,y)\n",
    "prediction = pd.DataFrame({\n",
    "    'Pclass': 3,\n",
    "    'Sex': 0,\n",
    "    'AgeGroup': 6,\n",
    "    'FamilySize': 4\n",
    "}, index=[0,1,2,3])"
   ]
  },
  {
   "cell_type": "markdown",
   "id": "0c9ffb4a",
   "metadata": {},
   "source": [
    "# Save the model"
   ]
  },
  {
   "cell_type": "code",
   "execution_count": 189,
   "id": "a3cb6ea6",
   "metadata": {},
   "outputs": [
    {
     "data": {
      "text/plain": [
       "['classifier.joblib']"
      ]
     },
     "execution_count": 189,
     "metadata": {},
     "output_type": "execute_result"
    }
   ],
   "source": [
    "import joblib\n",
    "joblib.dump(svm, \"classifier.joblib\")"
   ]
  },
  {
   "cell_type": "code",
   "execution_count": 190,
   "id": "f051257a",
   "metadata": {},
   "outputs": [
    {
     "name": "stderr",
     "output_type": "stream",
     "text": [
      "/home/rob/.local/lib/python3.9/site-packages/sklearn/base.py:488: FutureWarning: The feature names should match those that were passed during fit. Starting version 1.2, an error will be raised.\n",
      "Feature names unseen at fit time:\n",
      "- Parch\n",
      "- SibSp\n",
      "Feature names seen at fit time, yet now missing:\n",
      "- AgeGroup\n",
      "- FamilySize\n",
      "\n",
      "  warnings.warn(message, FutureWarning)\n"
     ]
    },
    {
     "data": {
      "text/plain": [
       "array([0, 1, 1, 1, 0, 0, 0, 0, 1, 1, 1, 1, 0, 0, 1, 1, 0, 0, 1, 1, 0, 0,\n",
       "       1, 0, 1, 0, 0, 0, 1, 0, 0, 1, 1, 0, 0, 0, 0, 0, 1, 1, 1, 1, 0, 1,\n",
       "       1, 0, 0, 1, 0, 1, 0, 0, 1, 1, 0, 0, 1, 0, 1, 0, 0, 0, 0, 0, 0, 1,\n",
       "       0, 1, 0, 0, 1, 0, 0, 0, 0, 0, 0, 1, 1, 0, 0, 1, 0, 1, 1, 0, 0, 1,\n",
       "       0, 0, 0, 0, 0, 0, 0, 0, 0, 1, 0, 1, 0, 0, 0, 0, 0, 1, 0, 0, 1, 0,\n",
       "       1, 0, 1, 1, 0, 0, 0, 0, 1, 0, 0, 0, 1, 0, 0, 0, 0, 1, 0, 0, 0, 1,\n",
       "       1, 0, 0, 1, 0, 0, 0, 1, 1, 1, 0, 0, 0, 0, 1, 1, 0, 0, 1, 0, 1, 0,\n",
       "       0, 1, 0, 0, 0, 0, 1, 0, 0, 0, 1, 1, 0, 0, 0, 0, 0, 1, 0, 0, 0, 0,\n",
       "       1, 0, 0, 1, 0, 0, 0, 1, 0, 1, 0, 0, 0, 1, 0, 1, 0, 1, 1, 0, 0, 1,\n",
       "       1, 0, 0, 0, 0, 0, 1, 0, 0, 1, 0, 0, 1, 0, 0, 0, 1, 1, 0, 1, 0, 0,\n",
       "       0, 0, 0, 0, 0, 0, 0, 0, 1, 1, 0, 0, 1, 0, 1, 0, 1, 0, 0, 1, 1, 0,\n",
       "       0, 0, 0, 1, 1, 0, 0, 0, 1, 0, 0, 1, 1, 1, 1, 1, 1, 0, 0, 0, 0, 1,\n",
       "       0, 0, 0, 1, 1, 0, 0, 1, 0, 1, 1, 1, 0, 0, 1, 0, 0, 0, 0, 0, 0, 0,\n",
       "       0, 0, 1, 1, 1, 0, 1, 0, 0, 0, 1, 0, 1, 1, 0, 0, 1, 0, 0, 1, 1, 0,\n",
       "       1, 1, 1, 1, 0, 0, 1, 1, 0, 1, 1, 0, 0, 1, 1, 0, 1, 0, 1, 1, 1, 1,\n",
       "       0, 0, 0, 1, 0, 0, 1, 0, 0, 0, 1, 0, 0, 0, 1, 1, 1, 0, 0, 0, 0, 0,\n",
       "       0, 0, 0, 1, 1, 1, 1, 0, 0, 1, 0, 0, 0, 1, 1, 1, 1, 0, 0, 0, 0, 1,\n",
       "       1, 1, 1, 0, 0, 1, 1, 0, 1, 0, 0, 0, 1, 0, 1, 0, 0, 0, 1, 1, 0, 1,\n",
       "       0, 0, 1, 0, 0, 1, 0, 1, 0, 0, 0, 0, 1, 0, 0, 1, 0, 0, 1, 1, 1, 0,\n",
       "       1, 0, 0, 0, 1, 0, 0, 1, 1, 0, 0, 0, 1, 1, 0, 0, 1, 1, 1, 1, 0, 1,\n",
       "       0, 0, 1, 0, 1, 1, 0, 1, 0, 0, 0, 0, 0, 0, 0, 0, 1, 1, 0, 0, 0, 0,\n",
       "       0, 0, 0, 0, 0, 0, 1, 0, 0, 1, 1, 1, 0, 0, 0, 0, 1, 0, 0, 0, 1, 0,\n",
       "       1, 1, 0, 0, 0, 0, 0, 0, 0, 0, 0, 1, 0, 1, 0, 0, 1, 1, 1, 1, 0, 1,\n",
       "       0, 0, 0, 0, 0, 0, 1, 0, 0, 1, 0, 1, 0, 1, 0, 0, 1, 0, 0, 1, 0, 0,\n",
       "       0, 1, 0, 0, 1, 1, 1, 0, 1, 0, 1, 1, 1, 1, 0, 0, 0, 1, 0, 0, 0, 1,\n",
       "       0, 0, 0, 1, 0, 1, 0, 1, 1, 0, 0, 0, 0, 1, 0, 0, 1, 0, 0, 0, 1, 0,\n",
       "       1, 0, 0, 1, 1, 1, 0, 1, 1, 0, 0, 0, 1, 0, 0, 0, 0, 0, 1, 0, 1, 0,\n",
       "       0, 1, 0, 0, 0, 1, 0, 0, 0, 0, 0, 0, 0, 1, 1, 0, 0, 1, 0, 0, 1, 0,\n",
       "       1, 1, 0, 0, 0, 0, 0, 0, 0, 0, 1, 0, 0, 0, 0, 0, 0, 1, 1, 0, 0, 0,\n",
       "       0, 0, 1, 1, 0, 1, 0, 0, 0, 0, 1, 0, 1, 0, 1, 1, 0, 0, 1, 0, 1, 0,\n",
       "       0, 0, 0, 0, 0, 0, 0, 0, 1, 1, 0, 0, 0, 0, 0, 0, 1, 0, 0, 1, 0, 0,\n",
       "       0, 0, 0, 0, 0, 0, 1, 0, 1, 0, 0, 0, 0, 0, 1, 0, 0, 1, 0, 1, 0, 0,\n",
       "       0, 1, 0, 1, 0, 1, 0, 0, 0, 0, 0, 1, 1, 0, 0, 1, 0, 0, 0, 0, 0, 1,\n",
       "       1, 0, 1, 1, 0, 0, 0, 0, 0, 1, 0, 0, 0, 0, 0, 1, 0, 0, 0, 0, 1, 0,\n",
       "       0, 1, 0, 0, 0, 1, 0, 0, 0, 0, 1, 0, 0, 0, 1, 0, 1, 0, 1, 0, 0, 0,\n",
       "       0, 1, 0, 1, 0, 0, 1, 0, 1, 1, 1, 0, 0, 0, 0, 1, 0, 0, 0, 0, 0, 1,\n",
       "       0, 0, 0, 1, 1, 0, 1, 0, 1, 0, 0, 0, 0, 0, 1, 0, 1, 0, 0, 0, 1, 0,\n",
       "       0, 1, 0, 0, 0, 1, 0, 0, 1, 0, 0, 0, 1, 0, 1, 0, 0, 0, 0, 1, 0, 0,\n",
       "       0, 0, 0, 0, 1, 0, 0, 0, 0, 0, 0, 1, 0, 0, 1, 1, 1, 1, 1, 0, 1, 0,\n",
       "       0, 0, 1, 1, 0, 1, 1, 0, 0, 0, 0, 1, 0, 0, 1, 1, 0, 0, 0, 1, 1, 0,\n",
       "       1, 0, 0, 0, 0, 1, 1, 0, 0])"
      ]
     },
     "execution_count": 190,
     "metadata": {},
     "output_type": "execute_result"
    }
   ],
   "source": []
  },
  {
   "cell_type": "code",
   "execution_count": null,
   "id": "dbfab417",
   "metadata": {},
   "outputs": [],
   "source": []
  }
 ],
 "metadata": {
  "kernelspec": {
   "display_name": "Python 3 (ipykernel)",
   "language": "python",
   "name": "python3"
  },
  "language_info": {
   "codemirror_mode": {
    "name": "ipython",
    "version": 3
   },
   "file_extension": ".py",
   "mimetype": "text/x-python",
   "name": "python",
   "nbconvert_exporter": "python",
   "pygments_lexer": "ipython3",
   "version": "3.9.7"
  }
 },
 "nbformat": 4,
 "nbformat_minor": 5
}
